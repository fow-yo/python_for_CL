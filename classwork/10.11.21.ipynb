{
 "cells": [
  {
   "cell_type": "code",
   "execution_count": null,
   "metadata": {},
   "outputs": [],
   "source": []
  },
  {
   "cell_type": "markdown",
   "metadata": {
    "colab_type": "text",
    "id": "ylixGHVOvAqB"
   },
   "source": [
    "## Classwork\n",
    "\n",
    "*Сделайте одну задачу на выбор. Выполнение больше одной приветствуется*"
   ]
  },
  {
   "cell_type": "markdown",
   "metadata": {
    "colab_type": "text",
    "id": "WbpgWXdHvgV8"
   },
   "source": [
    "**Задача 1.**  Напишите генератор названий компаний (почти как генератор паролей). \n",
    "Пусть в названии компании будет 6 частей, рандомно выбирающихся из списка names.\n",
    "\n",
    "Сделайте это функцией"
   ]
  },
  {
   "cell_type": "code",
   "execution_count": 46,
   "metadata": {
    "colab": {
     "base_uri": "https://localhost:8080/",
     "height": 34
    },
    "colab_type": "code",
    "id": "lIwa6cOqvcTs",
    "outputId": "9ab23b6b-f4ce-4597-ec6c-88c3f1d29ff8"
   },
   "outputs": [
    {
     "name": "stdout",
     "output_type": "stream",
     "text": [
      "ТехноМосТоргСибирьСтройМетал\n"
     ]
    }
   ],
   "source": [
    "# генератор названий компаний\n",
    "\n",
    "import random\n",
    "\n",
    "names = [\"пром\",\"агро\",\"торг\",\"урал\",\"север\",\"юг\",\"техно\",\n",
    "\"экспо\",\"метал\",\"нефть\",\"сельхоз\",\"фарм\",\"строй\",\n",
    "\"кредит\",\"алмаз\",\"девелопмент\",\"развитие\",\"мос\",\n",
    "\"рос\",\"кубань\",\"сибирь\",\"восток\",\"нано\",\"софт\",\n",
    "\"микро\",\"онлайн\",\"инвест\",\"текстиль\",\"цемент\"]\n",
    "\n",
    "# Ваш код ниже\n",
    "import random \n",
    "spis = []\n",
    "for i in range(6):\n",
    "    vibor = random.choice(names)\n",
    "    names.remove(vibor)\n",
    "    vibor=vibor.capitalize()\n",
    "    spis.append(vibor)\n",
    "\n",
    "print(\"\".join(spis))"
   ]
  },
  {
   "cell_type": "markdown",
   "metadata": {},
   "source": [
    "**Задача 2.** Генератор паролей\n",
    "\n",
    "Пароли, получаемые в результате, должны удовлетворять следующим условиям: \n",
    "     - в пароле есть 3 заглавные буквы (любые, в любом месте пароля)\n",
    "     - в пароле есть 4 цифры (любые, в любом месте)\n",
    "     - оставшиеся символы пароля - строчные латинские буквы\n",
    "     \n",
    "Создайте функцию, которая генерирует пароли, пользователь задает число символов в пароле (как аргумент функции)"
   ]
  },
  {
   "cell_type": "code",
   "execution_count": 43,
   "metadata": {
    "colab": {},
    "colab_type": "code",
    "id": "Mm3FYaIJ99GJ"
   },
   "outputs": [
    {
     "name": "stdout",
     "output_type": "stream",
     "text": [
      "xzekW6Lru6e7Ex7\n"
     ]
    }
   ],
   "source": [
    "import random\n",
    "import string\n",
    "def parol(chislo):\n",
    "    c=[random.choice(string.ascii_lowercase) for i in range(chislo - 7)]\n",
    "    a=[random.choice(string.ascii_uppercase) for i in range(3)]\n",
    "    b=[str(random.randint(0,9)) for i in range(4)]\n",
    "    skley=a+b+c\n",
    "    random.shuffle(skley)\n",
    "    return \"\".join(skley)\n",
    "    \n",
    "print(parol(15))\n"
   ]
  }
 ],
 "metadata": {
  "interpreter": {
   "hash": "d80095c69160a06f146d9e8e49f713084574f2169b2b31316342d7177235c88b"
  },
  "kernelspec": {
   "display_name": "Python 3.9.2 64-bit",
   "name": "python3"
  },
  "language_info": {
   "codemirror_mode": {
    "name": "ipython",
    "version": 3
   },
   "file_extension": ".py",
   "mimetype": "text/x-python",
   "name": "python",
   "nbconvert_exporter": "python",
   "pygments_lexer": "ipython3",
   "version": "3.9.2"
  }
 },
 "nbformat": 4,
 "nbformat_minor": 4
}
